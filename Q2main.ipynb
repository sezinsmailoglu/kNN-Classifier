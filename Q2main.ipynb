{
 "cells": [
  {
   "cell_type": "code",
   "execution_count": 1,
   "id": "68776c54",
   "metadata": {},
   "outputs": [],
   "source": [
    "import os\n",
    "import csv\n",
    "import math\n",
    "import random\n",
    "import operator\n",
    "import timeit\n",
    "import numpy as np\n"
   ]
  },
  {
   "cell_type": "code",
   "execution_count": 2,
   "id": "f825f60b",
   "metadata": {},
   "outputs": [],
   "source": [
    "#root = 'C:/Users/sezin/Desktop/SON SENE/CS464-Machine Learning/HW1/q2/'\n",
    "#csv_path_training_data = os.path.join(root, 'diabetes_train_features.csv')\n",
    "#csv_path_test_data = os.path.join(root, 'diabetes_test_features.csv')\n",
    "#csv_path_training_label = os.path.join(root, 'diabetes_train_labels.csv')\n",
    "#csv_path_test_label = os.path.join(root, 'diabetes_test_labels.csv')\n",
    "csv_path_training_data = 'diabetes_train_features.csv'\n",
    "csv_path_test_data = 'diabetes_test_features.csv'\n",
    "csv_path_training_label =  'diabetes_train_labels.csv'\n",
    "csv_path_test_label =  'diabetes_test_labels.csv'\n",
    "#with open(csv_path_training_data, 'r') as csvfile:\n",
    "#    lines = csv.reader(csvfile)\n",
    "#    for row in lines:\n",
    "#        print(row)"
   ]
  },
  {
   "cell_type": "code",
   "execution_count": 3,
   "id": "84bc2203",
   "metadata": {},
   "outputs": [],
   "source": [
    "def get_dataset(filename):\n",
    "     with open(filename, 'r') as csvfile:\n",
    "        lines = csv.reader(csvfile)\n",
    "        next(lines)\n",
    "        dataset = list(lines)\n",
    "        data = np.array([[float(row[col_i]) for col_i in range(1,len(row))] for row in dataset])\n",
    "        #print(data)\n",
    "        return data"
   ]
  },
  {
   "cell_type": "code",
   "execution_count": 4,
   "id": "af88934a",
   "metadata": {},
   "outputs": [],
   "source": [
    "train_features = get_dataset(csv_path_training_data)\n",
    "test_features = get_dataset(csv_path_test_data)\n",
    "train_labels = get_dataset(csv_path_training_label)\n",
    "test_labels = get_dataset(csv_path_test_label)\n",
    "\n",
    "#print(test_features[1])"
   ]
  },
  {
   "cell_type": "code",
   "execution_count": 5,
   "id": "fb11667e",
   "metadata": {},
   "outputs": [],
   "source": [
    "def euclidean_distance(sample1, sample2):\n",
    "    #print(len(sample1))\n",
    "    #print(len(sample2))\n",
    "    assert len(sample1) == len(sample2), \"Different number of features exist for the given samples\"\n",
    "    distance = 0\n",
    "    for i in range(0,len(sample1)): #first num -> indicates the num of the sample \n",
    "        distance += pow((sample1[i] - sample2[i]), 2)\n",
    "    return math.sqrt(distance)"
   ]
  },
  {
   "cell_type": "code",
   "execution_count": 6,
   "id": "470e686b",
   "metadata": {},
   "outputs": [
    {
     "data": {
      "text/plain": [
       "(614, 8)"
      ]
     },
     "execution_count": 6,
     "metadata": {},
     "output_type": "execute_result"
    }
   ],
   "source": [
    "train_features.shape"
   ]
  },
  {
   "cell_type": "code",
   "execution_count": 7,
   "id": "6257df40",
   "metadata": {},
   "outputs": [],
   "source": [
    "def get_neighbors(train_features, train_labels, test_sample, k):\n",
    "    distances = []\n",
    "    neighbors = []\n",
    "    \n",
    "    for train_sample, sample_label,  in zip(train_features, train_labels):\n",
    "        #print(train_sample)\n",
    "        #print(test_sample)\n",
    "        distance = euclidean_distance(train_sample, test_sample)\n",
    "        distances.append((train_sample, sample_label, distance))\n",
    "        \n",
    "    distances.sort(key=operator.itemgetter(2))\n",
    "    \n",
    "    for i in range(k):\n",
    "        neighbors.append(distances[i])\n",
    "\n",
    "    #print(distances[:k])\n",
    "    return distances[:k]"
   ]
  },
  {
   "cell_type": "code",
   "execution_count": 8,
   "id": "553022bd",
   "metadata": {},
   "outputs": [],
   "source": [
    "test1_neighbors = get_neighbors(train_features,train_labels,test_features[1],9)"
   ]
  },
  {
   "cell_type": "code",
   "execution_count": 9,
   "id": "ace40ee3",
   "metadata": {},
   "outputs": [
    {
     "name": "stdout",
     "output_type": "stream",
     "text": [
      "[0. 1.]\n"
     ]
    }
   ],
   "source": [
    "classes = np.unique(train_labels)\n",
    "print(classes)"
   ]
  },
  {
   "cell_type": "code",
   "execution_count": 10,
   "id": "f69f9de3",
   "metadata": {},
   "outputs": [],
   "source": [
    "def classify(neighbors, classes):\n",
    "    class_votes = {cls: 0 for cls in classes}\n",
    "    \n",
    "    for n in neighbors:\n",
    "        class_votes[int(n[1])] += 1\n",
    "    \n",
    "    most_vote_count = 0\n",
    "    most_voted_class = None\n",
    "    for cls in class_votes:\n",
    "        if class_votes[cls] > most_vote_count:\n",
    "            most_voted_class = cls\n",
    "            most_vote_count = class_votes[cls]\n",
    "    return most_voted_class\n",
    "    "
   ]
  },
  {
   "cell_type": "code",
   "execution_count": 11,
   "id": "e8c3ccd1",
   "metadata": {},
   "outputs": [
    {
     "data": {
      "text/plain": [
       "0.0"
      ]
     },
     "execution_count": 11,
     "metadata": {},
     "output_type": "execute_result"
    }
   ],
   "source": [
    "classify(test1_neighbors, np.unique(train_labels))\n"
   ]
  },
  {
   "cell_type": "code",
   "execution_count": 12,
   "id": "49324062",
   "metadata": {},
   "outputs": [],
   "source": [
    "def calc_accuracy(gt_y, pred_y):\n",
    "    correct = 0\n",
    "    for g_y, p_y in zip(gt_y, pred_y):\n",
    "        if g_y == p_y: \n",
    "            correct += 1\n",
    "            \n",
    "    return (correct/float(len(gt_y))*100)\n",
    "\n",
    "def confusion_matrix(correct_labels, predictions):\n",
    "    confusion = [[0,0], [0, 0]]\n",
    "    #tp fn; fp tn\n",
    "    for l, p in zip(correct_labels, predictions):\n",
    "        if l == p:\n",
    "            if l == 0: #true negative\n",
    "                confusion[1][1] += 1\n",
    "            else:      #true positive\n",
    "                confusion[0][0] += 1\n",
    "        else: \n",
    "            if l == 0: #false positive\n",
    "                confusion[1][0] += 1\n",
    "            else: # false negative\n",
    "                confusion[0][1] += 1\n",
    "                \n",
    "    return confusion"
   ]
  },
  {
   "cell_type": "code",
   "execution_count": 13,
   "id": "5f1dfdaf",
   "metadata": {},
   "outputs": [],
   "source": [
    "class KNN:\n",
    "    def __init__(self, n_neighbors=5):\n",
    "        self.n_neighbors = n_neighbors\n",
    "        \n",
    "    def fit(self, X, y):\n",
    "        start = timeit.default_timer()\n",
    "        self.train_X = X\n",
    "        self.train_y = y\n",
    "        self.classes = np.unique(y)\n",
    "        stop = timeit.default_timer()\n",
    "        print('training time: ', stop - start)\n",
    "        \n",
    "    # X: test data\n",
    "    def predict(self, X):\n",
    "        start = timeit.default_timer()\n",
    "        predictions = []\n",
    "        for x in X:\n",
    "            neighbors = get_neighbors(self.train_X, self.train_y, x, self.n_neighbors)\n",
    "            p_class = classify(neighbors, self.classes)\n",
    "            predictions.append(p_class)\n",
    "        stop = timeit.default_timer()\n",
    "        print('validation time: ', stop - start)\n",
    "        return predictions     "
   ]
  },
  {
   "cell_type": "code",
   "execution_count": 14,
   "id": "0a7cee47",
   "metadata": {},
   "outputs": [
    {
     "name": "stdout",
     "output_type": "stream",
     "text": [
      "training time:  0.0002649999805726111\n",
      "validation time:  1.2038394999981392\n",
      "72.07792207792207\n",
      "[[37, 18], [25, 74]]\n"
     ]
    }
   ],
   "source": [
    "\n",
    "knn = KNN(n_neighbors=9)\n",
    "knn.fit(train_features, train_labels)\n",
    "pred_y = knn.predict(test_features)\n",
    "acc = calc_accuracy(test_labels, pred_y)\n",
    "print(acc)\n",
    "print(confusion_matrix(test_labels,pred_y))\n"
   ]
  },
  {
   "cell_type": "code",
   "execution_count": 15,
   "id": "aba1de15",
   "metadata": {
    "scrolled": true
   },
   "outputs": [],
   "source": [
    "def eliminate_feature(feature, x):\n",
    "    if x == 0:\n",
    "        return np.array([[float(row[col_i]) for col_i in range(1,len(row))] for row in feature])\n",
    "    elif x == feature.shape[1]-1:\n",
    "        return np.array([[float(row[col_i]) for col_i in range(0,len(row)-1)] for row in feature])\n",
    "    elif x < feature.shape[1]-1:\n",
    "        firstPart = np.array([[float(row[col_i]) for col_i in range(0,x)] for row in feature])\n",
    "        secondPart = np.array([[float(row[col_i]) for col_i in range(x+1,len(row))] for row in feature])\n",
    "        return np.concatenate((firstPart, secondPart), axis=1)\n",
    "    else:\n",
    "        return feature\n",
    "    \n",
    "def backward_elimination(training_feature, test_feature, training_label, test_label):\n",
    "\n",
    "    knn = KNN(n_neighbors=9)\n",
    "    knn.fit(training_feature, training_label)\n",
    "    pred_y = knn.predict(test_feature)\n",
    "    accuracy_before = calc_accuracy(test_label,pred_y)\n",
    "    accuracy = accuracy_before\n",
    "    print('Accuracy before elimination ' + str(accuracy))\n",
    "\n",
    "    max_accuracy_this_loop = accuracy;\n",
    "    eliminateThis = 0;\n",
    "    \n",
    "        #Eliminate 1 column & try again\n",
    "        \n",
    "    for k in range(0,len(training_feature[0])):      \n",
    "        eliminated_test = eliminate_feature(test_feature,k)\n",
    "        eliminated_training = eliminate_feature(training_feature,k)\n",
    "        new_knn = KNN(n_neighbors = 9)\n",
    "        new_knn.fit(eliminated_training,training_label)\n",
    "        new_prediction = new_knn.predict(eliminated_test)\n",
    "        accuracy = calc_accuracy(test_label, new_prediction)\n",
    "        print('k ' + str(k) +' accuracy this loop '+ str(accuracy)+ ' max accuracy this loop '+ str(max_accuracy_this_loop)+ ' eliminateThis ' + str(eliminateThis))\n",
    "        print('confusion matrix this loop')\n",
    "        print(confusion_matrix(test_labels,new_prediction))\n",
    "        if (accuracy > max_accuracy_this_loop):\n",
    "            max_accuracy_this_loop = accuracy\n",
    "            eliminateThis = k\n",
    "                \n",
    "    if(max_accuracy_this_loop > accuracy_before):\n",
    "        \n",
    "        print('eliminating: ' + str(eliminateThis) )\n",
    "        print()\n",
    "        return eliminate_feature(training_feature, eliminateThis), eliminate_feature(test_feature, eliminateThis), training_label, test_label, max_accuracy_this_loop\n",
    "    else :\n",
    "        return training_feature, test_feature, training_label, test_label, accuracy_before\n",
    "    "
   ]
  },
  {
   "cell_type": "code",
   "execution_count": 16,
   "id": "a10b0371",
   "metadata": {
    "scrolled": true
   },
   "outputs": [
    {
     "name": "stdout",
     "output_type": "stream",
     "text": [
      "training time:  0.000371300004189834\n",
      "validation time:  1.0916233000170905\n",
      "72.07792207792207\n",
      "\n",
      "training time:  0.0009030000073835254\n",
      "validation time:  0.9561219000024721\n",
      "Accuracy before elimination 72.07792207792207\n",
      "training time:  8.290002006106079e-05\n",
      "validation time:  0.8352437999856193\n",
      "k 0 accuracy this loop 71.42857142857143 max accuracy this loop 72.07792207792207 eliminateThis 0\n",
      "confusion matrix this loop\n",
      "[[36, 19], [25, 74]]\n",
      "training time:  0.0003583999932743609\n",
      "validation time:  1.4655023000086658\n",
      "k 1 accuracy this loop 60.3896103896104 max accuracy this loop 72.07792207792207 eliminateThis 0\n",
      "confusion matrix this loop\n",
      "[[20, 35], [26, 73]]\n",
      "training time:  0.0006762999983038753\n",
      "validation time:  1.085496499988949\n",
      "k 2 accuracy this loop 68.83116883116884 max accuracy this loop 72.07792207792207 eliminateThis 0\n",
      "confusion matrix this loop\n",
      "[[34, 21], [27, 72]]\n",
      "training time:  0.00012070001685060561\n",
      "validation time:  1.0026731000107247\n",
      "k 3 accuracy this loop 70.12987012987013 max accuracy this loop 72.07792207792207 eliminateThis 0\n",
      "confusion matrix this loop\n",
      "[[35, 20], [26, 73]]\n",
      "training time:  0.0006578000029549003\n",
      "validation time:  0.6046113999909721\n",
      "k 4 accuracy this loop 75.32467532467533 max accuracy this loop 72.07792207792207 eliminateThis 0\n",
      "confusion matrix this loop\n",
      "[[35, 20], [18, 81]]\n",
      "training time:  0.00014409999130293727\n",
      "validation time:  0.5695654000155628\n",
      "k 5 accuracy this loop 71.42857142857143 max accuracy this loop 75.32467532467533 eliminateThis 4\n",
      "confusion matrix this loop\n",
      "[[36, 19], [25, 74]]\n",
      "training time:  0.00011670001549646258\n",
      "validation time:  0.48527149998699315\n",
      "k 6 accuracy this loop 72.07792207792207 max accuracy this loop 75.32467532467533 eliminateThis 4\n",
      "confusion matrix this loop\n",
      "[[37, 18], [25, 74]]\n",
      "training time:  6.079999729990959e-05\n",
      "validation time:  0.5105320999864489\n",
      "k 7 accuracy this loop 74.67532467532467 max accuracy this loop 75.32467532467533 eliminateThis 4\n",
      "confusion matrix this loop\n",
      "[[32, 23], [16, 83]]\n",
      "eliminating: 4\n",
      "\n",
      "training time:  6.990000838413835e-05\n",
      "validation time:  1.0059334999823477\n",
      "Accuracy before elimination 75.32467532467533\n",
      "training time:  0.0008423000108450651\n",
      "validation time:  0.5735143999918364\n",
      "k 0 accuracy this loop 76.62337662337663 max accuracy this loop 75.32467532467533 eliminateThis 0\n",
      "confusion matrix this loop\n",
      "[[35, 20], [16, 83]]\n",
      "training time:  0.00015879998682066798\n",
      "validation time:  0.4221992999955546\n",
      "k 1 accuracy this loop 60.3896103896104 max accuracy this loop 76.62337662337663 eliminateThis 0\n",
      "confusion matrix this loop\n",
      "[[20, 35], [26, 73]]\n",
      "training time:  0.00018390000332146883\n",
      "validation time:  0.4434490999847185\n",
      "k 2 accuracy this loop 68.18181818181817 max accuracy this loop 76.62337662337663 eliminateThis 0\n",
      "confusion matrix this loop\n",
      "[[31, 24], [25, 74]]\n",
      "training time:  0.0005773000011686236\n",
      "validation time:  0.441092099994421\n",
      "k 3 accuracy this loop 75.97402597402598 max accuracy this loop 76.62337662337663 eliminateThis 0\n",
      "confusion matrix this loop\n",
      "[[36, 19], [18, 81]]\n",
      "training time:  0.00020080001559108496\n",
      "validation time:  0.46709149997332133\n",
      "k 4 accuracy this loop 72.07792207792207 max accuracy this loop 76.62337662337663 eliminateThis 0\n",
      "confusion matrix this loop\n",
      "[[32, 23], [20, 79]]\n",
      "training time:  0.0007107999990694225\n",
      "validation time:  0.6288324000197463\n",
      "k 5 accuracy this loop 75.32467532467533 max accuracy this loop 76.62337662337663 eliminateThis 0\n",
      "confusion matrix this loop\n",
      "[[35, 20], [18, 81]]\n",
      "training time:  4.169999738223851e-05\n",
      "validation time:  0.4804569999978412\n",
      "k 6 accuracy this loop 74.67532467532467 max accuracy this loop 76.62337662337663 eliminateThis 0\n",
      "confusion matrix this loop\n",
      "[[29, 26], [13, 86]]\n",
      "eliminating: 0\n",
      "\n",
      "training time:  4.2899977415800095e-05\n",
      "validation time:  0.4532187000149861\n",
      "Accuracy before elimination 76.62337662337663\n",
      "training time:  0.00038479999057017267\n",
      "validation time:  0.38485090000904165\n",
      "k 0 accuracy this loop 56.493506493506494 max accuracy this loop 76.62337662337663 eliminateThis 0\n",
      "confusion matrix this loop\n",
      "[[16, 39], [28, 71]]\n",
      "training time:  0.00018100001034326851\n",
      "validation time:  0.5489013999758754\n",
      "k 1 accuracy this loop 68.83116883116884 max accuracy this loop 76.62337662337663 eliminateThis 0\n",
      "confusion matrix this loop\n",
      "[[31, 24], [24, 75]]\n",
      "training time:  0.00043819998973049223\n",
      "validation time:  0.3840819000033662\n",
      "k 2 accuracy this loop 75.97402597402598 max accuracy this loop 76.62337662337663 eliminateThis 0\n",
      "confusion matrix this loop\n",
      "[[35, 20], [17, 82]]\n",
      "training time:  0.0007083000091370195\n",
      "validation time:  0.38542480001342483\n",
      "k 3 accuracy this loop 74.02597402597402 max accuracy this loop 76.62337662337663 eliminateThis 0\n",
      "confusion matrix this loop\n",
      "[[33, 22], [18, 81]]\n",
      "training time:  0.0003740000247489661\n",
      "validation time:  0.44004929999937303\n",
      "k 4 accuracy this loop 76.62337662337663 max accuracy this loop 76.62337662337663 eliminateThis 0\n",
      "confusion matrix this loop\n",
      "[[35, 20], [16, 83]]\n",
      "training time:  6.079999729990959e-05\n",
      "validation time:  0.4155544999812264\n",
      "k 5 accuracy this loop 75.97402597402598 max accuracy this loop 76.62337662337663 eliminateThis 0\n",
      "confusion matrix this loop\n",
      "[[30, 25], [12, 87]]\n",
      "bitti\n"
     ]
    }
   ],
   "source": [
    "#without anything eliminated\n",
    "knn1 = KNN(n_neighbors = 9)\n",
    "knn.fit(train_features,train_labels)\n",
    "pred = knn.predict(test_features)\n",
    "max_acc = calc_accuracy(test_labels, pred)\n",
    "accuracy_RN = max_acc\n",
    "print(max_acc)\n",
    "print()\n",
    "\n",
    "eliminated_training = train_features\n",
    "eliminated_test = test_features\n",
    "\n",
    "while True:\n",
    "    if(max_acc <= accuracy_RN):\n",
    "        a = backward_elimination(eliminated_training,eliminated_test, train_labels, test_labels)\n",
    "        accuracy_RN = a[4]\n",
    "        eliminated_training = a[0]\n",
    "        eliminated_test = a[1]\n",
    "        if(accuracy_RN > max_acc):\n",
    "            max_acc = accuracy_RN\n",
    "        else:\n",
    "            break;\n",
    "    else:\n",
    "        break;\n",
    "        \n",
    "print('bitti')\n",
    "    "
   ]
  },
  {
   "cell_type": "code",
   "execution_count": null,
   "id": "84f57a2a",
   "metadata": {},
   "outputs": [],
   "source": []
  },
  {
   "cell_type": "code",
   "execution_count": null,
   "id": "052f4d10",
   "metadata": {},
   "outputs": [],
   "source": []
  },
  {
   "cell_type": "code",
   "execution_count": null,
   "id": "a94c9a63",
   "metadata": {},
   "outputs": [],
   "source": []
  }
 ],
 "metadata": {
  "kernelspec": {
   "display_name": "Python 3 (ipykernel)",
   "language": "python",
   "name": "python3"
  },
  "language_info": {
   "codemirror_mode": {
    "name": "ipython",
    "version": 3
   },
   "file_extension": ".py",
   "mimetype": "text/x-python",
   "name": "python",
   "nbconvert_exporter": "python",
   "pygments_lexer": "ipython3",
   "version": "3.10.0"
  }
 },
 "nbformat": 4,
 "nbformat_minor": 5
}
